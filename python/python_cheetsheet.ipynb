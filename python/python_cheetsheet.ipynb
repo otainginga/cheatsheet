{
 "cells": [
  {
   "cell_type": "markdown",
   "id": "676fb462",
   "metadata": {
    "id": "676fb462"
   },
   "source": [
    "# python type"
   ]
  },
  {
   "cell_type": "markdown",
   "id": "3e37233d",
   "metadata": {
    "id": "3e37233d"
   },
   "source": [
    "|type|note|\n",
    "| :- | :- |\n",
    "||int long float complex|\n",
    "|str||\n",
    "|boolean||\n",
    "|list ||\n",
    "|tuple||\n",
    "|dictionary||\n",
    "|set|used for delete duplicates and test for relationships|\n",
    "\n"
   ]
  },
  {
   "cell_type": "markdown",
   "id": "bb80b764",
   "metadata": {
    "id": "bb80b764"
   },
   "source": [
    "* a & b (pandas) = a and b (python)\n",
    "* a | b (pandas) = a or b (python)"
   ]
  },
  {
   "cell_type": "markdown",
   "id": "9917e234",
   "metadata": {},
   "source": [
    "## map()\n",
    "map() is a Python funtion that can be used to apply another function to a list or dictiony."
   ]
  },
  {
   "cell_type": "code",
   "execution_count": 2,
   "id": "442a5eae",
   "metadata": {},
   "outputs": [],
   "source": [
    "numbers = [5, 2, 7, 3, 4, 6, 8, 1]\n",
    "\n",
    "# Let's make a function that caculates squares\n",
    "def square_number(x): \n",
    "    return x**2"
   ]
  },
  {
   "cell_type": "code",
   "execution_count": 4,
   "id": "ee185389",
   "metadata": {},
   "outputs": [
    {
     "data": {
      "text/plain": [
       "map"
      ]
     },
     "execution_count": 4,
     "metadata": {},
     "output_type": "execute_result"
    }
   ],
   "source": [
    "# A pythonic approach would be to use Map. It takes the function and the list as its input arguments.\n",
    "x = map(square_number, numbers)\n",
    "type(x)"
   ]
  },
  {
   "cell_type": "code",
   "execution_count": 5,
   "id": "6edc5682",
   "metadata": {},
   "outputs": [
    {
     "name": "stdout",
     "output_type": "stream",
     "text": [
      "Pythonic Approach:  [25, 4, 49, 9, 16, 36, 64, 1]\n"
     ]
    }
   ],
   "source": [
    "print('Pythonic Approach: ', list(x))"
   ]
  },
  {
   "cell_type": "markdown",
   "id": "2c951331",
   "metadata": {},
   "source": [
    "## zip()\n",
    "Iterate over two or more lists simultaneously"
   ]
  },
  {
   "cell_type": "code",
   "execution_count": 6,
   "id": "c4ef4fe4",
   "metadata": {},
   "outputs": [
    {
     "name": "stdout",
     "output_type": "stream",
     "text": [
      "5 3\n",
      "2 8\n",
      "7 6\n",
      "3 8\n",
      "4 1\n"
     ]
    }
   ],
   "source": [
    "a = [5, 2, 7, 3, 4]\n",
    "b = [3, 8, 6, 8, 1]\n",
    "\n",
    "for x, y in zip(a, b):\n",
    "    print(x,y)"
   ]
  },
  {
   "cell_type": "markdown",
   "id": "eed1a2d0",
   "metadata": {},
   "source": [
    "## filter().\n",
    "* Filter takes a function and a sequence (list or dictionarty) as its input and works similarly to **map** \n",
    "* however, filter only stores the elements that were evaluated to be **True**"
   ]
  },
  {
   "cell_type": "code",
   "execution_count": 7,
   "id": "3e5ef296",
   "metadata": {},
   "outputs": [
    {
     "data": {
      "text/plain": [
       "filter"
      ]
     },
     "execution_count": 7,
     "metadata": {},
     "output_type": "execute_result"
    }
   ],
   "source": [
    "numbers = [5, 2, 7, 3, 4, 6, 8, 1, 9, 0, 10]\n",
    "\n",
    "# Will return true if input number is even\n",
    "def isEven(x):\n",
    "    return x % 2 == 0\n",
    "# A pythonic approach would be to use filter()\n",
    "even_numbers = filter(isEven, numbers)\n",
    "type(even_numbers)"
   ]
  },
  {
   "cell_type": "code",
   "execution_count": 8,
   "id": "52359455",
   "metadata": {},
   "outputs": [
    {
     "name": "stdout",
     "output_type": "stream",
     "text": [
      "Pythonic Approach:  [2, 4, 6, 8, 0, 10]\n"
     ]
    }
   ],
   "source": [
    "print('Pythonic Approach: ', list(even_numbers))"
   ]
  },
  {
   "cell_type": "markdown",
   "id": "df3ea0d9",
   "metadata": {
    "id": "df3ea0d9"
   },
   "source": [
    "# pandas"
   ]
  },
  {
   "cell_type": "markdown",
   "id": "54bfd0b6",
   "metadata": {
    "id": "54bfd0b6"
   },
   "source": [
    "\n",
    "```\n",
    "+------------+---------+--------+\n",
    "|            |  A      |  B     |\n",
    "+------------+---------+---------\n",
    "|      0     | 10      | 15     |----axis=1----->\n",
    "+------------+---------+--------+\n",
    "             |         |\n",
    "             | axis=0  |\n",
    "             ↓         ↓\n",
    "```\n",
    "\n"
   ]
  },
  {
   "cell_type": "markdown",
   "id": "0c7b2790",
   "metadata": {
    "id": "0c7b2790"
   },
   "source": [
    "### a. Series operations"
   ]
  },
  {
   "cell_type": "markdown",
   "id": "19dc501c",
   "metadata": {
    "id": "19dc501c"
   },
   "source": [
    "\n",
    "|step|note|Solution|\n",
    "| :- | :- | :- |\n",
    "|step 1 |list to series |`a = [1,4,3,7,2,6,3]`|\n",
    "|||`series = pd.Series(a)`|\n",
    "|step 2 |bunch of operations|`a.max() .min()`|\n",
    "|||`a.sort_values(ascending=False) .sort_values(ascending=False, inplace=True)`|\n",
    "|||`a.value_counts()`|"
   ]
  },
  {
   "cell_type": "code",
   "execution_count": null,
   "id": "ad3ed48f",
   "metadata": {
    "id": "ad3ed48f",
    "outputId": "55ccc1b2-d8a4-4dfe-8566-b58dfeb99b57"
   },
   "outputs": [
    {
     "data": {
      "text/plain": [
       "pandas.core.series.Series"
      ]
     },
     "execution_count": 2,
     "metadata": {
      "tags": []
     },
     "output_type": "execute_result"
    }
   ],
   "source": [
    "import pandas as pd\n",
    "a = [1,4,3,7,2,6,3]\n",
    "series = pd.Series(a)\n",
    "type(series)"
   ]
  },
  {
   "cell_type": "markdown",
   "id": "b2561bb7",
   "metadata": {
    "id": "b2561bb7"
   },
   "source": [
    "# Pandas - DataFrames"
   ]
  },
  {
   "cell_type": "markdown",
   "id": "68643030",
   "metadata": {
    "id": "68643030"
   },
   "source": [
    "| Issue | Solution | \n",
    "| :- | :- | \n",
    "| load a pandas DataFrame | `df = pd.read_csv()` |\n",
    "| <span style=\"color:blue\">**Saving a DF**</span>  | `df.to_csv()` |\n",
    "|  | `df.to_excel()` |\n",
    "| <span style=\"color:blue\">**Expore the data**</span>  | `df.describe() / df.dtypes / df.info()` |\n",
    "|   | `df.head() / df.tail()` |\n",
    "|  | `df.columns` |\n",
    "| <span style=\"color:blue\">**Creating dataframes **</span> | `pd.DataFrame(  list/dictionary/  )` |\n",
    "|  | `df.to_excel()` |\n",
    "| <span style=\"color:red\">**Indexing and selecting segments**</span> |   |\n",
    "| <span style=\"color:blue\">**single column**</span> |   |\n",
    "| **loc [label based selection]**| `df.loc[row_label, column_label]`|\n",
    "| **iloc [integer position based selection]**| `df.to_csv()` |\n",
    "| Saving a DF | `df.to_excel()` |\n",
    "| <span style=\"color:blue\">**multiple column**</span> | `df.loc[:,[\"name\", \"sex\"]]  /df.loc[[\"name\", \"sex\"]]`   |\n",
    "||df.loc[2:4,:]|\n",
    "| <span style=\"color:red\">**Descriptive Stats**</span> |   |\n",
    "|  | `df.max()min()mean()mdeian()sum()value_counts()` |\n",
    "|  | `df.unique()` |\n",
    "| <span style=\"color:red\">**Filtering using Boolean Operations**</span> |    |\n",
    "||`df[df['age'] > 70]`|\n",
    "| <span style=\"color:red\">**Finding empty cells using isnull()**</span> |    |\n",
    "||| \n",
    "|`df.isnull()`|[a df of boolean numbers]|\n",
    "|`df['cabin'].isnull()`|a series of boolean numbers|\n",
    "||`df[df['cabin'].notnull()]`|\n",
    "|<span style=\"color:red\">**multi conditions**</span>||\n",
    "||`over_60_and_under_5 = (df['age'] > 60) | (df['age'] < 5)`|\n",
    "|<span style=\"color:blue\">Combining Boolean Filtering</span> |`over_60 = df['age'] > 60`|\n",
    "||`cabin_exists = df['cabin'].notnull()`|\n",
    "||`over_60_cabin_exists = over_60 + cabin_exists`|\n",
    "||`df[over_60_cabin_exists]`|\n"
   ]
  },
  {
   "cell_type": "markdown",
   "id": "b67f9c94",
   "metadata": {
    "id": "b67f9c94"
   },
   "source": [
    "# Pandas - Data Cleaning"
   ]
  },
  {
   "cell_type": "code",
   "execution_count": null,
   "id": "91574cab",
   "metadata": {
    "id": "91574cab"
   },
   "outputs": [],
   "source": []
  },
  {
   "cell_type": "markdown",
   "id": "baef00fc",
   "metadata": {
    "id": "baef00fc"
   },
   "source": [
    "\n",
    "\n",
    "|Issue|Solution|\n",
    "| :- | :- | \n",
    "|**Renaming Columns**|<span style=\"color:blue\">use dict</span>|\n",
    "||`new_columns = {'ano' : 'year', 'estado': 'state','mes': 'month','numero': 'number_of_fires',     'encontro': 'date'}`|\n",
    "||`df.rename(columns = new_columns, inplace=True)`|\n",
    "|**Re-arranging Column Order**|<span style=\"color:blue\">Columns are numbered from 0, left to right</span>|\n",
    "||`new_order = [origin_4,origin_1,origin_0,origin_2,origin_3,]`|\n",
    "||`df = df[df.columns[new_order]]`|\n",
    "|**Checking data types of specific columns**||\n",
    "|<span style=\"color:blue\">Determing if a column contains numeric data</span>|`df['number_of_fires'].str.isnumeric()`|\n",
    "|<span style=\"color:green\">Determing if a column contains numeric data</span>|`df['number_of_fires'].astype(str).str.isdigit()`|\n",
    "|**Changing Data Types**||\n",
    "||`df[\"number_of_fires\"] = df[\"number_of_fires\"].str.replace('','0').astype(float)`|\n",
    "|**Removing Text from column**||\n",
    "||`df['number_of_fires'] = df['number_of_fires'].str.strip(\" Fires\")`|\n",
    "||`df[\"number_of_fires\"] = df[\"number_of_fires\"].str.replace('','0').astype(float)`|\n",
    "\n",
    "\n",
    "**For numbers(isdigit and isnumeric)**\n",
    "- Bascially, `str.isdigit` only returns True for strings containing solely the digits 0-9. \n",
    "- By contrast, `str.isnumeric` returns True if it contains any numeric characters. e.g. '½'\n",
    "\n",
    "\n"
   ]
  },
  {
   "cell_type": "code",
   "execution_count": null,
   "id": "155a1916",
   "metadata": {
    "id": "155a1916"
   },
   "outputs": [],
   "source": []
  },
  {
   "cell_type": "markdown",
   "id": "de7a8703",
   "metadata": {
    "id": "de7a8703"
   },
   "source": [
    "|Issue|Solution|\n",
    "| :- | :- | \n",
    "|**Deaing with Missing Data**||\n",
    "||`df.isnull().sum()`|\n",
    "||`df['number_of_fires'].isnull()`|\n",
    "||`df = df.dropna() ` |\n",
    "|# reset's row indexes in case any rows were dropped|`df = df.reset_index()`|\n",
    "|<span style=\"color:blue\">**What do to with missing data**</span>||\n",
    "|||\n",
    "||* Remove them via .dropna(axis=0)|\n",
    "||* Replace them with some arbitary number (e.g. an average)|\n",
    "||* Replace them zeros, or Forward Fill (ffill) or Back Fill (backfill)|\n",
    "|Using fillna with zeros|`df['number_of_fires'].fillna(0).head()`|\n",
    "|back filling|`df['number_of_fires'].fillna(method='ffill').head(70)`|"
   ]
  },
  {
   "cell_type": "code",
   "execution_count": null,
   "id": "f1b2d007",
   "metadata": {
    "id": "f1b2d007"
   },
   "outputs": [],
   "source": []
  },
  {
   "cell_type": "markdown",
   "id": "f4db13ef",
   "metadata": {
    "id": "f4db13ef"
   },
   "source": [
    "|Issue|Solution|\n",
    "| :- | :- | \n",
    "|<span style=\"color:red\">**change content in bunch**</span>||\n",
    "|<span style=\"color:blue\">**use map to change in bunch**</span>|`month_translations = `<br>`{'Janeiro': January','Fevereiro': 'February',`<br>`'Março': 'March','Abril': 'April','Maio': 'May','Junho': 'June', `<br>` 'Julho': 'July','Agosto': 'August','Setembro': 'September',`<br>`'Outubro': 'October','Novembro': 'November','Dezembro': 'December'}`|\n",
    "||`df[\"month\"] = df[\"month\"].map(month_translations)`|\n",
    "|||\n",
    "|**String operations of column data**||\n",
    "|Removing Columns||\n",
    "||`df = df.drop(\"date\", axis=1) `|\n",
    "||`df = df.drop([\"year\", \"date\"], axis=1)`|\n",
    "|Dropping Rows||\n",
    "||`df = df.drop(df.index[[2,3]])`|"
   ]
  },
  {
   "cell_type": "markdown",
   "id": "d4ce9ebb",
   "metadata": {
    "id": "edb3535c"
   },
   "source": [
    "# Pandas - Data Aggregation\n",
    "\n",
    "1. Groupby\n",
    "2. Map Functions\n",
    "3. Pivot\n",
    "4. Agg functions"
   ]
  },
  {
   "cell_type": "markdown",
   "id": "c142964b",
   "metadata": {},
   "source": [
    "## Groupby"
   ]
  },
  {
   "cell_type": "markdown",
   "id": "0e0e923b",
   "metadata": {},
   "source": [
    "|Step|note||output|\n",
    "| :- | :- | :- | |\n",
    "|1|**create a GB project**|`state_groups = df.groupby('state')`||\n",
    "|2.1|basic info|`state_groups.get_group('Rio')`||\n",
    "|2.2||`state_groups.groups`||\n",
    "|2.3||`state_groups.size()`||\n",
    "|2.4|`df.shape`|\n",
    "|3|**Aggregation funtions**|||\n",
    "|| |`state_groups.sum()`||\n",
    "|| |`mean().size().count().sum().min().max()`||\n",
    "|4|**analysis one numeric col**|||\n",
    "|| |`df.groupby('state')['number_of_fires'].mean()`|table/no line|\n",
    "|||`df.groupby('state')['number_of_fires', 'severity'].agg(np.mean)`|table/no line|\n",
    "|||`df.groupby('state')['number_of_fires', 'severity'].agg([np.mean, np.max])`|table/no line|\n",
    "|4| custom Agg|||\n",
    "|||`def max_minus_mean(grouped_data):`||\n",
    "|||`return(grouped_data.max() - grouped_data.mean())`||\n",
    "|||`df.groupby('state')['number_of_fires'].agg(max_minus_mean)`||\n",
    "||into a df|`pd.DataFrame(df.groupby('state')['number_of_fires'].agg(max_minus_mean)).reset_index()`||"
   ]
  },
  {
   "cell_type": "markdown",
   "id": "48616e45",
   "metadata": {},
   "source": [
    "## Pivot table(numpy)"
   ]
  },
  {
   "cell_type": "markdown",
   "id": "6f24b0c9",
   "metadata": {},
   "source": [
    "|Step|note||\n",
    "| :- | :- | :- | \n",
    "|0|**import packages**|`import numpy as np`|\n",
    "|1|**create a pivot**||\n",
    "|1.1|simple col|`df.pivot_table(values='number_of_fires', index='state', aggfunc=np.mean), margins=True`|\n",
    "|1.2|multi col|`df.pivot_table(['number_of_fires', 'severity'], 'state')`|\n",
    "|||`df.pivot_table(values=['number_of_fires', 'severity'], index='state', aggfunc=np.mean, margins=True)`|\n",
    "|||`df.pivot_table(['number_of_fires', 'severity'], 'state', aggfunc=[np.mean, np.min, np.max], margins=True)`|"
   ]
  },
  {
   "cell_type": "code",
   "execution_count": null,
   "id": "4c6d6bde",
   "metadata": {},
   "outputs": [],
   "source": []
  },
  {
   "cell_type": "code",
   "execution_count": null,
   "id": "2ca919df",
   "metadata": {},
   "outputs": [],
   "source": []
  },
  {
   "cell_type": "code",
   "execution_count": null,
   "id": "595e7a69",
   "metadata": {},
   "outputs": [],
   "source": []
  },
  {
   "cell_type": "markdown",
   "id": "3eb601ba",
   "metadata": {},
   "source": [
    "### Pivot table ->plot"
   ]
  },
  {
   "cell_type": "code",
   "execution_count": null,
   "id": "8d8a8b77",
   "metadata": {},
   "outputs": [],
   "source": [
    "# Can be useful when creating a plot\n",
    "\n",
    "fires_per_state = df.pivot_table(values='number_of_fires', index='state', aggfunc=np.mean, margins=True)\n",
    "\n",
    "# We push the horizontal scale to the right just to make it more aesthetic\n",
    "max_val = fires_per_state[\"number_of_fires\"].max() + 10\n",
    "\n",
    "fires_per_state.plot(kind='barh', title='Brazil Fires by State', xlim=(0,max_val), legend=True)"
   ]
  },
  {
   "cell_type": "markdown",
   "id": "229a1d6e",
   "metadata": {},
   "source": [
    "# Pandas Feature Engineering"
   ]
  },
  {
   "cell_type": "markdown",
   "id": "65f805db",
   "metadata": {},
   "source": [
    "* Lambda functions, then Apply functions"
   ]
  },
  {
   "cell_type": "markdown",
   "id": "1ee5f0d0",
   "metadata": {},
   "source": [
    "|Step|note||\n",
    "| :- | :- | :- | \n",
    "|1|<span style=\"color:red\">**create func**</span>||\n",
    "|||`def get_family_size(sibsp, parch):`<br>`family_size = sibsp + parch`<br>`return family_size`|\n",
    "||||\n",
    "|2|<span style=\"color:red\">**apply**</span>||\n",
    "|||`df['new_col'] = df.apply(lambda x: function(x.col_1, x.col_2), axis=1)`|\n",
    "|||`df[\"family_size\"] = df[[\"sibsp\", \"parch\"]].apply(lambda x: get_family_size(x[\"sibsp\"], x[\"parch\"]), axis=1)`|\n",
    "||**condition label**|`df['rating'] = df['quality'].apply(lambda x: 'good' if x >= 6 else 'bad')`|"
   ]
  },
  {
   "cell_type": "code",
   "execution_count": null,
   "id": "17184398",
   "metadata": {},
   "outputs": [],
   "source": [
    "# In the lambda case we write 'lambda arguments: expression'\n",
    "# In our regular function we write 'def function(arguements): return expression'\n",
    "\n",
    "our_lambda_function = lambda x : x * 2\n",
    "our_lambda_function(5)\n",
    "\n",
    "def multiple_by_two(x):\n",
    "  return x * 2\n",
    "\n",
    "multiple_by_two(5)"
   ]
  },
  {
   "cell_type": "markdown",
   "id": "b7b15b55",
   "metadata": {},
   "source": [
    "#  Pandas - Concatenating, Merging and Joining DataFrames \n",
    "\n",
    "1. Concat\n",
    "2. Append\n",
    "3. Merge\n",
    "4. Join"
   ]
  },
  {
   "cell_type": "markdown",
   "id": "19452204",
   "metadata": {},
   "source": [
    "|method|code|note|\n",
    "| :- | :- | :- | \n",
    "|**stack them vertically**|||\n",
    "||`pd.concat([df1, df2])`|same col names|\n",
    "|||different names will cause NaNs|\n",
    "|||original index from it's original df|\n",
    "||`pd.concat([df1, df2]).reset_index()`|new index|\n",
    "||||\n",
    "||`df1.append([df2, df3])`||\n",
    "|**stack them horizontally**|||\n",
    "||`pd.concat([df1, df2], axis = 1)`||"
   ]
  },
  {
   "cell_type": "markdown",
   "id": "919ecd85",
   "metadata": {},
   "source": [
    "#### Vertical Concat\n",
    "\n",
    "![alt text](https://pandas.pydata.org/pandas-docs/stable/_images/merging_concat_basic.png)\n",
    "\n",
    "#### Horizontal Conat \n",
    "\n",
    "![alt text](https://pandas.pydata.org/pandas-docs/stable/_images/merging_concat_axis1.png)"
   ]
  },
  {
   "cell_type": "markdown",
   "id": "8ccafa7c",
   "metadata": {
    "id": "4tZ2TKWAc-B3"
   },
   "source": [
    "## Pandas merge\n",
    "\n",
    "Pandas has full-featured, high performance in-memory join operations idiomatically very similar to relational databases like SQL:\n",
    "\n",
    "- **one-to-one joins:** for example when joining two DataFrame objects on their indexes (which must contain unique values).\n",
    "- **many-to-one joins:** for example when joining an index (unique) to one or more columns in a different DataFrame.\n",
    "- **many-to-many** joins: joining columns on columns.\n",
    "\n",
    "![alt text](https://i.stack.imgur.com/hMKKt.jpg)"
   ]
  },
  {
   "cell_type": "markdown",
   "id": "cfd47b69",
   "metadata": {},
   "source": [
    "|method|code|note|\n",
    "| :- | :- | :- | \n",
    "|**inner join**|||\n",
    "||`pd.merge(dfA, dfB, on='ID')`||\n",
    "||`pd.merge(dfA, dfB, how='inner', on='ID')`||\n",
    "||`left_df.join(right_df)`||\n",
    "|**left join**|||\n",
    "||`pd.merge(dfA, dfB, how='left', on='key')`||\n",
    "||||\n",
    "|**outer join**|||\n",
    "||`pd.merge(dfA, dfB, how='outer', on='key')`||\n",
    "||`left_df.join(right_df, how='outer')`||"
   ]
  },
  {
   "cell_type": "markdown",
   "id": "5cb6a8bd",
   "metadata": {},
   "source": [
    "# Pandas - Working with Time Series Date Data"
   ]
  },
  {
   "cell_type": "markdown",
   "id": "ad840018",
   "metadata": {},
   "source": [
    "**NOTE ISO 8601 format**\n",
    "-  yyyy-mm-dd hh:mm:ss"
   ]
  },
  {
   "cell_type": "code",
   "execution_count": 5,
   "id": "bcb4c0e7",
   "metadata": {},
   "outputs": [],
   "source": [
    "import pandas as pd\n",
    "from datetime import datetime\n",
    "import numpy as np\n",
    "import seaborn as sns\n",
    "import matplotlib.pyplot as plt"
   ]
  },
  {
   "cell_type": "markdown",
   "id": "8408f92f",
   "metadata": {},
   "source": [
    "### create a sample date df"
   ]
  },
  {
   "cell_type": "code",
   "execution_count": null,
   "id": "c82707a3",
   "metadata": {},
   "outputs": [],
   "source": [
    "df = pd.date_range(start='11/01/2019', end='11/07/2019', freq='H')\n",
    "df = pd.DataFrame(df, columns=['date'])\n",
    "\n",
    "# And add a 'made up' column for sales data\n",
    "df['sales'] = np.random.randint(0,1000,size=(len(df)))\n",
    "df.head()\n",
    "# Set your date as the index \n",
    "df = df.set_index('date')\n",
    "# Selecting using date - getting exact value for cell \n",
    "df.loc['2019-11-01 03:00:00', 'sales']\n",
    "# Selecting using date to return the row corresponding to that date\n",
    "df.loc['2019-11-01 03:00:00']\n",
    "# Selecting an entire day\n",
    "df.loc['2019-11-01']\n",
    "# Selecting a range of dates\n",
    "df.loc['2019-11-01':'2019-11-02']"
   ]
  },
  {
   "cell_type": "markdown",
   "id": "4f910670",
   "metadata": {},
   "source": [
    "## Resampling\n",
    "\n",
    "**Summary States** - we can use Statistical methods over different time intervals\n",
    "- mean(), sum(), count(), min(), max()\n",
    "\n",
    "**Down-sampling**\n",
    "- reduce datetime rows to longer frequency\n",
    "\n",
    "**Up-sampling**\n",
    "- increase datetime rows to shorter frequency\n",
    "\n",
    "**Resampling frequencies**\n",
    "- 'min', 'T' - minute\n",
    "- ‘H’ - hour\n",
    "- ‘D’ - day\n",
    "- ‘B’ - business day\n",
    "- ‘W’ - week\n",
    "- ‘M’ - month\n",
    "- ‘Q’ - quarter\n",
    "- ‘A’ - year"
   ]
  },
  {
   "cell_type": "code",
   "execution_count": null,
   "id": "45e8b601",
   "metadata": {},
   "outputs": [],
   "source": [
    "# Using resample to get the average for each day per hour\n",
    "\n",
    "df.resample('D').mean()\n",
    "# Using resample to get the average for each minute (downsampling)\n",
    "\n",
    "df.resample('T').mean()"
   ]
  },
  {
   "cell_type": "code",
   "execution_count": null,
   "id": "daef13d0",
   "metadata": {},
   "outputs": [],
   "source": []
  },
  {
   "cell_type": "markdown",
   "id": "22b0ee73",
   "metadata": {},
   "source": [
    "# Statistics - Exploratory Data Analysis\n",
    "\n",
    "- Histogram plots\n",
    "- Scatter plots\n",
    "- Percentiles\n",
    "- Boxplots\n",
    "- Violin\n",
    "- Heatmaps\n",
    "- Barplots\n",
    "- Factor plots\n",
    "- Density plots\n",
    "- Joint Distribution plots"
   ]
  },
  {
   "cell_type": "markdown",
   "id": "9b6e3d15",
   "metadata": {},
   "source": [
    "## Statistics-basic info & fig settings\n",
    "1. Analyzing Frequency Distributions\n",
    "2. Mean\n",
    "3. Mode\n",
    "4. Median\n",
    "5. STD\n",
    "6. Correlation\n",
    "7. Pairwise - scatter plots between all features\n",
    "8. Z-Scores - "
   ]
  },
  {
   "cell_type": "markdown",
   "id": "f218a72e",
   "metadata": {},
   "source": [
    "|step|code|note|\n",
    "| :- | :- | :- |\n",
    "|**Basic**| |\n",
    "||`df.info()`|\n",
    "||`df.describe()`|\n",
    "|**statistics**||\n",
    "||`df[\"alcohol\"].value_counts().head()`|\n",
    "|<span style=\"color:blue\">mode</span>|`getMode(df, 'pclass')`|\n",
    "|<span style=\"color:blue\">median</span>|`df.median()`|\n",
    "|<span style=\"color:blue\">mean, min, max</span>|`df['age'].mean().min().max()`|\n",
    "|<span style=\"color:blue\">heatmap</span>|`sns.heatmap(corr, cmap=sns.diverging_palette(220, 10, as_cmap=True))`|\n",
    "||https://seaborn.pydata.org/generated/seaborn.diverging_palette.html|\n",
    "|<span style=\"color:blue\">STD or VAR?</span>|`df['alcohol'].var()`|\n",
    "|<span style=\"color:blue\">***Zscores***</span>|`df['z_scores'] = df['alcohol'].apply(lambda x: ((x - mean) / std))`|\n",
    "|||\n",
    "|quantile function ||\n",
    "||`print(df[\"alcohol\"].quantile(0.1))`|\n",
    "||`df[\"alcohol\"].quantile(([0.05, 0.95]))`|\n",
    "||`df[df['type'] == 'red']['alcohol'].describe()`|\n",
    "|**charts**||\n",
    "|<span style=\"color:red\">Styling and Axis Labels</span>||\n",
    "||`plt.xlabel('Alcohol Percentage') & plt.ylabel('Count')`|\n",
    "||`plt.title(\"Alcohol Content\")`|\n",
    "|<span style=\"color:green\">figsize</span>|`fig = plt.figure(figsize=(21,14))`|\n",
    "||`plt.show()`|\n",
    "|***axlines***|https://www.jianshu.com/p/7fd4bf3b8c7d|\n",
    "\n"
   ]
  },
  {
   "cell_type": "markdown",
   "id": "2008262b",
   "metadata": {},
   "source": [
    "# Seaborn plots"
   ]
  },
  {
   "cell_type": "markdown",
   "id": "672733bb",
   "metadata": {},
   "source": [
    "|step|code|note|\n",
    "| :- | :- | :- |\n",
    "|seaborn||\n",
    "||`sns.set_style(\"dark\")`|\n",
    "|<span style=\"color:blue\">histogram</span>||\n",
    "||`df.hist(column='alcohol', bins=10, grid=False, figsize=(10,6), color='green')`|\n",
    "||`sns.distplot(df.alcohol, bins=10, kde=True, color=\"red\")`|\n",
    "|<span style=\"color:blue\">Scatter Plots</span>||\n",
    "||`sns.lmplot(x='alcohol', y='density', data=df, fit_reg=False,hue='quality')`|\n",
    "|||\n",
    "|<span style=\"color:blue\">boxplot</span>||\n",
    "||`sns.boxplot(data=df, palette=\"Set3\")`|\n",
    "||`sns.boxplot(x=\"day\", y=\"total_bill\",hue=\"smoker\", palette=[\"m\", \"g\"], data=tips),orient=\"v\")`|\n",
    "|<span style=\"color:blue\">Violin Plots</span>||\n",
    "||`sns.violinplot(data=df['alcohol'])`|\n",
    "||`sns.violinplot(data=tips, x=\"day\", y=\"total_bill\", hue=\"smoker\", split=True, inner=\"quart\", `<br>`linewidth=1, palette={\"Yes\": \"b\", \"No\": \".85\"})`|\n",
    "|<span style=\"color:blue\">barplot</span>||\n",
    "||`sns.countplot(x='quality', data=df, hue='type')`|\n",
    "||`sns.countplot(x=df.quality, data=df, hue='type')`|\n",
    "|<span style=\"color:blue\">catplot</span>||\n",
    "||`g = sns.catplot(x=\"class\", y=\"survived\", hue=\"sex\", data=titanic,height=6,`<br>` kind=\"bar\", palette=\"muted\")`|\n",
    "||`g.despine(left=True)`|no left-side line|\n",
    "||`g.set_ylabels(\"survival probability\")`|\n",
    "|<span style=\"color:blue\">Density</span>||\n",
    "||`sns.kdeplot(df.alcohol, df.density)`|\n",
    "|<span style=\"color:blue\">Joint</span>||\n",
    "||`sns.jointplot(x='alcohol', y='density', data=df)`|\n",
    "|<span style=\"color:blue\">Pairwise plot</span>||\n",
    "||`g = sns.pairplot(df, palette=\"husl\", diag_kind=\"kde\", hue='type')`|Show the scatter plots<br> between all features in our dataset|"
   ]
  },
  {
   "cell_type": "markdown",
   "id": "b61e374a",
   "metadata": {},
   "source": [
    "## fig loopings-  loop specific chart using enumerate"
   ]
  },
  {
   "cell_type": "code",
   "execution_count": 6,
   "id": "c681c4a5",
   "metadata": {},
   "outputs": [
    {
     "data": {
      "text/html": [
       "<div>\n",
       "<style scoped>\n",
       "    .dataframe tbody tr th:only-of-type {\n",
       "        vertical-align: middle;\n",
       "    }\n",
       "\n",
       "    .dataframe tbody tr th {\n",
       "        vertical-align: top;\n",
       "    }\n",
       "\n",
       "    .dataframe thead th {\n",
       "        text-align: right;\n",
       "    }\n",
       "</style>\n",
       "<table border=\"1\" class=\"dataframe\">\n",
       "  <thead>\n",
       "    <tr style=\"text-align: right;\">\n",
       "      <th></th>\n",
       "      <th>type</th>\n",
       "      <th>fixed acidity</th>\n",
       "      <th>volatile acidity</th>\n",
       "      <th>citric acid</th>\n",
       "      <th>residual sugar</th>\n",
       "      <th>chlorides</th>\n",
       "      <th>free sulfur dioxide</th>\n",
       "      <th>total sulfur dioxide</th>\n",
       "      <th>density</th>\n",
       "      <th>pH</th>\n",
       "      <th>sulphates</th>\n",
       "      <th>alcohol</th>\n",
       "      <th>quality</th>\n",
       "    </tr>\n",
       "  </thead>\n",
       "  <tbody>\n",
       "    <tr>\n",
       "      <th>0</th>\n",
       "      <td>white</td>\n",
       "      <td>7.0</td>\n",
       "      <td>0.27</td>\n",
       "      <td>0.36</td>\n",
       "      <td>20.7</td>\n",
       "      <td>0.045</td>\n",
       "      <td>45.0</td>\n",
       "      <td>170.0</td>\n",
       "      <td>1.0010</td>\n",
       "      <td>3.00</td>\n",
       "      <td>0.45</td>\n",
       "      <td>8.8</td>\n",
       "      <td>6</td>\n",
       "    </tr>\n",
       "    <tr>\n",
       "      <th>1</th>\n",
       "      <td>white</td>\n",
       "      <td>6.3</td>\n",
       "      <td>0.30</td>\n",
       "      <td>0.34</td>\n",
       "      <td>1.6</td>\n",
       "      <td>0.049</td>\n",
       "      <td>14.0</td>\n",
       "      <td>132.0</td>\n",
       "      <td>0.9940</td>\n",
       "      <td>3.30</td>\n",
       "      <td>0.49</td>\n",
       "      <td>9.5</td>\n",
       "      <td>6</td>\n",
       "    </tr>\n",
       "    <tr>\n",
       "      <th>2</th>\n",
       "      <td>white</td>\n",
       "      <td>8.1</td>\n",
       "      <td>0.28</td>\n",
       "      <td>0.40</td>\n",
       "      <td>6.9</td>\n",
       "      <td>0.050</td>\n",
       "      <td>30.0</td>\n",
       "      <td>97.0</td>\n",
       "      <td>0.9951</td>\n",
       "      <td>3.26</td>\n",
       "      <td>0.44</td>\n",
       "      <td>10.1</td>\n",
       "      <td>6</td>\n",
       "    </tr>\n",
       "    <tr>\n",
       "      <th>3</th>\n",
       "      <td>white</td>\n",
       "      <td>7.2</td>\n",
       "      <td>0.23</td>\n",
       "      <td>0.32</td>\n",
       "      <td>8.5</td>\n",
       "      <td>0.058</td>\n",
       "      <td>47.0</td>\n",
       "      <td>186.0</td>\n",
       "      <td>0.9956</td>\n",
       "      <td>3.19</td>\n",
       "      <td>0.40</td>\n",
       "      <td>9.9</td>\n",
       "      <td>6</td>\n",
       "    </tr>\n",
       "    <tr>\n",
       "      <th>4</th>\n",
       "      <td>white</td>\n",
       "      <td>7.2</td>\n",
       "      <td>0.23</td>\n",
       "      <td>0.32</td>\n",
       "      <td>8.5</td>\n",
       "      <td>0.058</td>\n",
       "      <td>47.0</td>\n",
       "      <td>186.0</td>\n",
       "      <td>0.9956</td>\n",
       "      <td>3.19</td>\n",
       "      <td>0.40</td>\n",
       "      <td>9.9</td>\n",
       "      <td>6</td>\n",
       "    </tr>\n",
       "  </tbody>\n",
       "</table>\n",
       "</div>"
      ],
      "text/plain": [
       "    type  fixed acidity  volatile acidity  citric acid  residual sugar  \\\n",
       "0  white            7.0              0.27         0.36            20.7   \n",
       "1  white            6.3              0.30         0.34             1.6   \n",
       "2  white            8.1              0.28         0.40             6.9   \n",
       "3  white            7.2              0.23         0.32             8.5   \n",
       "4  white            7.2              0.23         0.32             8.5   \n",
       "\n",
       "   chlorides  free sulfur dioxide  total sulfur dioxide  density    pH  \\\n",
       "0      0.045                 45.0                 170.0   1.0010  3.00   \n",
       "1      0.049                 14.0                 132.0   0.9940  3.30   \n",
       "2      0.050                 30.0                  97.0   0.9951  3.26   \n",
       "3      0.058                 47.0                 186.0   0.9956  3.19   \n",
       "4      0.058                 47.0                 186.0   0.9956  3.19   \n",
       "\n",
       "   sulphates  alcohol  quality  \n",
       "0       0.45      8.8        6  \n",
       "1       0.49      9.5        6  \n",
       "2       0.44     10.1        6  \n",
       "3       0.40      9.9        6  \n",
       "4       0.40      9.9        6  "
      ]
     },
     "execution_count": 6,
     "metadata": {},
     "output_type": "execute_result"
    }
   ],
   "source": [
    "file_name = \"https://raw.githubusercontent.com/rajeevratan84/datascienceforbusiness/master/winequalityN.csv\"\n",
    "df = pd.read_csv(file_name)\n",
    "df.head()"
   ]
  },
  {
   "cell_type": "code",
   "execution_count": 7,
   "id": "78cfe80b",
   "metadata": {},
   "outputs": [
    {
     "data": {
      "image/png": "[encoded data removed]",
      "text/plain": [
       "<Figure size 1512x1008 with 9 Axes>"
      ]
     },
     "metadata": {
      "needs_background": "light"
     },
     "output_type": "display_data"
    }
   ],
   "source": [
    "fig = plt.figure(figsize=(21,14))\n",
    "\n",
    "# Store the features or columns we're going to plot in a list\n",
    "features = [\"alcohol\", \"total sulfur dioxide\", \"residual sugar\", \"volatile acidity\", \n",
    "            \"total sulfur dioxide\", \"chlorides\", \"fixed acidity\", \"density\",\"sulphates\"]\n",
    "\n",
    "# Loop through our features plotting each plot in our loop\n",
    "for (i, feature) in enumerate(features):\n",
    "    # How do subplots work?\n",
    "    # add_subplot(rows, columns, figure_number)\n",
    "    # We need to create a subplot object to store our plots\n",
    "    ax1 = fig.add_subplot(3,3,i+1)\n",
    "    sns.boxplot(x=\"type\", y=feature, data=df);"
   ]
  },
  {
   "cell_type": "markdown",
   "id": "06d8b866",
   "metadata": {},
   "source": [
    "## Boxplots & Finding Outliers\n",
    "\n",
    "https://seaborn.pydata.org/generated/seaborn.boxplot.html\n",
    "\n",
    "![alt text](https://pro.arcgis.com/en/pro-app/help/analysis/geoprocessing/charts/GUID-0E2C3730-C535-40CD-8152-80D794A996A7-web.png)\n",
    "\n",
    "* “maximum”: Q3 + 1.5*IQR\n",
    "* “minimum”: Q1 -1.5*IQR\n",
    "* step 1 : get the range, step 2: draw boxplots"
   ]
  },
  {
   "cell_type": "markdown",
   "id": "703d7b48",
   "metadata": {},
   "source": []
  },
  {
   "cell_type": "code",
   "execution_count": null,
   "id": "cd23bb2e",
   "metadata": {},
   "outputs": [],
   "source": []
  },
  {
   "cell_type": "code",
   "execution_count": null,
   "id": "117392ba",
   "metadata": {},
   "outputs": [],
   "source": []
  },
  {
   "cell_type": "code",
   "execution_count": null,
   "id": "7769793a",
   "metadata": {},
   "outputs": [],
   "source": []
  },
  {
   "cell_type": "code",
   "execution_count": null,
   "id": "695424fc",
   "metadata": {},
   "outputs": [],
   "source": []
  },
  {
   "cell_type": "code",
   "execution_count": null,
   "id": "5f114550",
   "metadata": {},
   "outputs": [],
   "source": []
  },
  {
   "cell_type": "code",
   "execution_count": null,
   "id": "2b69cf23",
   "metadata": {},
   "outputs": [],
   "source": []
  }
 ],
 "metadata": {
  "colab": {
   "collapsed_sections": [],
   "name": "python_cheetsheet.ipynb",
   "provenance": [],
   "toc_visible": true
  },
  "kernelspec": {
   "display_name": "Python 3",
   "language": "python",
   "name": "python3"
  },
  "language_info": {
   "codemirror_mode": {
    "name": "ipython",
    "version": 3
   },
   "file_extension": ".py",
   "mimetype": "text/x-python",
   "name": "python",
   "nbconvert_exporter": "python",
   "pygments_lexer": "ipython3",
   "version": "3.8.8"
  }
 },
 "nbformat": 4,
 "nbformat_minor": 5
}
